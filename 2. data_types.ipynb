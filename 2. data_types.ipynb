{
 "cells": [
  {
   "cell_type": "code",
   "execution_count": 2,
   "id": "8cd61c1c-8063-4665-9c30-809c65b197ea",
   "metadata": {},
   "outputs": [
    {
     "name": "stdout",
     "output_type": "stream",
     "text": [
      "Datchna\n",
      "<class 'str'>\n"
     ]
    }
   ],
   "source": [
    "name = \"Datchna\"\n",
    "print(name)\n",
    "print(type(name))"
   ]
  },
  {
   "cell_type": "code",
   "execution_count": 3,
   "id": "12c233bb-45e6-4140-8f33-9ee103a37d08",
   "metadata": {},
   "outputs": [
    {
     "name": "stdout",
     "output_type": "stream",
     "text": [
      "67\n",
      "<class 'int'>\n"
     ]
    }
   ],
   "source": [
    "num = 67\n",
    "print(num)\n",
    "print(type(num))"
   ]
  },
  {
   "cell_type": "code",
   "execution_count": 4,
   "id": "cb8a6860-c0de-4da6-a951-be06e4ad4d46",
   "metadata": {},
   "outputs": [
    {
     "name": "stdout",
     "output_type": "stream",
     "text": [
      "34.243\n",
      "<class 'float'>\n"
     ]
    }
   ],
   "source": [
    "dec = 34.243\n",
    "print(dec)\n",
    "print(type(dec))"
   ]
  },
  {
   "cell_type": "code",
   "execution_count": 5,
   "id": "ff784210-1f05-4fd8-ae09-66011774974c",
   "metadata": {},
   "outputs": [
    {
     "name": "stdout",
     "output_type": "stream",
     "text": [
      "(3+4j)\n",
      "<class 'complex'>\n"
     ]
    }
   ],
   "source": [
    "value = 3+4j\n",
    "print(value)\n",
    "print(type(value))"
   ]
  },
  {
   "cell_type": "code",
   "execution_count": 12,
   "id": "3a2ebd39-e50e-4c8b-b0f4-5d8aad6b4379",
   "metadata": {},
   "outputs": [
    {
     "name": "stdout",
     "output_type": "stream",
     "text": [
      "378\n",
      "<class 'int'>\n"
     ]
    }
   ],
   "source": [
    "#type casting of integer\n",
    "num1 = 378\n",
    "print(num1)\n",
    "print(type(num1))"
   ]
  },
  {
   "cell_type": "code",
   "execution_count": 20,
   "id": "ed0bc4a3-94ea-4239-9027-4a205bc08d01",
   "metadata": {},
   "outputs": [
    {
     "name": "stdout",
     "output_type": "stream",
     "text": [
      "378.0\n"
     ]
    }
   ],
   "source": [
    "print(float(a))"
   ]
  },
  {
   "cell_type": "code",
   "execution_count": 16,
   "id": "03be8a6b-20e0-49b7-bd20-651d02c590f6",
   "metadata": {},
   "outputs": [
    {
     "name": "stdout",
     "output_type": "stream",
     "text": [
      "(378+0j)\n"
     ]
    }
   ],
   "source": [
    "print(complex(num1))"
   ]
  },
  {
   "cell_type": "code",
   "execution_count": 17,
   "id": "e083475b-cbcb-4eef-97fb-716049a9779b",
   "metadata": {},
   "outputs": [
    {
     "name": "stdout",
     "output_type": "stream",
     "text": [
      "378\n"
     ]
    }
   ],
   "source": [
    "print(str(num1))"
   ]
  },
  {
   "cell_type": "code",
   "execution_count": 21,
   "id": "68fd593e-f97a-4354-8144-6faabaf4e539",
   "metadata": {},
   "outputs": [
    {
     "name": "stdout",
     "output_type": "stream",
     "text": [
      "234.34\n"
     ]
    }
   ],
   "source": [
    "#typecasting of float\n",
    "num2 = 234.34\n",
    "print(num2)"
   ]
  },
  {
   "cell_type": "code",
   "execution_count": 22,
   "id": "4ec1c623-ad8f-44f8-811d-b39c7fa528ed",
   "metadata": {},
   "outputs": [
    {
     "name": "stdout",
     "output_type": "stream",
     "text": [
      "234\n"
     ]
    }
   ],
   "source": [
    "print(int(num2))"
   ]
  },
  {
   "cell_type": "code",
   "execution_count": 23,
   "id": "88d79e35-2bed-4866-bdf0-7af5fb926a15",
   "metadata": {},
   "outputs": [
    {
     "name": "stdout",
     "output_type": "stream",
     "text": [
      "(234.34+0j)\n"
     ]
    }
   ],
   "source": [
    "print(complex(num2))"
   ]
  },
  {
   "cell_type": "code",
   "execution_count": 24,
   "id": "0246e156-7167-4a93-9118-3ab76ee0e6a6",
   "metadata": {},
   "outputs": [
    {
     "name": "stdout",
     "output_type": "stream",
     "text": [
      "234.34\n"
     ]
    }
   ],
   "source": [
    "print(str(num2))"
   ]
  },
  {
   "cell_type": "code",
   "execution_count": 25,
   "id": "4d3919f3-a632-4463-a80e-d55f80f14a24",
   "metadata": {},
   "outputs": [
    {
     "name": "stdout",
     "output_type": "stream",
     "text": [
      "(34+4j)\n"
     ]
    }
   ],
   "source": [
    "#type casting of complex\n",
    "a = 34+4j\n",
    "print(a)"
   ]
  },
  {
   "cell_type": "code",
   "execution_count": 28,
   "id": "02e48fe9-af0b-47c1-971e-0302565e182a",
   "metadata": {},
   "outputs": [
    {
     "name": "stdout",
     "output_type": "stream",
     "text": [
      "34.0\n",
      "4.0\n",
      "<class 'str'>\n"
     ]
    }
   ],
   "source": [
    "print(a.real)\n",
    "print(a.imag)\n",
    "b=str(a.real)\n",
    "print(type(b))"
   ]
  },
  {
   "cell_type": "code",
   "execution_count": 30,
   "id": "06af708f-2a13-4c8e-8526-7f47c3b91873",
   "metadata": {},
   "outputs": [
    {
     "ename": "TypeError",
     "evalue": "int() argument must be a string, a bytes-like object or a real number, not 'complex'",
     "output_type": "error",
     "traceback": [
      "\u001b[1;31m---------------------------------------------------------------------------\u001b[0m",
      "\u001b[1;31mTypeError\u001b[0m                                 Traceback (most recent call last)",
      "Cell \u001b[1;32mIn[30], line 1\u001b[0m\n\u001b[1;32m----> 1\u001b[0m \u001b[38;5;28mprint\u001b[39m(\u001b[38;5;28mint\u001b[39m(a))\n",
      "\u001b[1;31mTypeError\u001b[0m: int() argument must be a string, a bytes-like object or a real number, not 'complex'"
     ]
    }
   ],
   "source": [
    "print(int(a))"
   ]
  },
  {
   "cell_type": "code",
   "execution_count": 31,
   "id": "47811686-9ead-47c6-a653-2f24d0cc86b5",
   "metadata": {},
   "outputs": [
    {
     "ename": "TypeError",
     "evalue": "float() argument must be a string or a real number, not 'complex'",
     "output_type": "error",
     "traceback": [
      "\u001b[1;31m---------------------------------------------------------------------------\u001b[0m",
      "\u001b[1;31mTypeError\u001b[0m                                 Traceback (most recent call last)",
      "Cell \u001b[1;32mIn[31], line 1\u001b[0m\n\u001b[1;32m----> 1\u001b[0m \u001b[38;5;28mprint\u001b[39m(\u001b[38;5;28mfloat\u001b[39m(a))\n",
      "\u001b[1;31mTypeError\u001b[0m: float() argument must be a string or a real number, not 'complex'"
     ]
    }
   ],
   "source": [
    "print(float(a))"
   ]
  },
  {
   "cell_type": "code",
   "execution_count": 32,
   "id": "735d9f72-cdd1-4f9d-8666-a065a16df2c5",
   "metadata": {},
   "outputs": [
    {
     "name": "stdout",
     "output_type": "stream",
     "text": [
      "(34+4j)\n"
     ]
    }
   ],
   "source": [
    "print(str(a))\n",
    "print(type(str(a))"
   ]
  },
  {
   "cell_type": "code",
   "execution_count": 29,
   "id": "c65e6101-929d-4deb-b4e6-03bd741d8ff5",
   "metadata": {},
   "outputs": [
    {
     "name": "stdin",
     "output_type": "stream",
     "text": [
      "Enter the Value :  34\n"
     ]
    },
    {
     "name": "stdout",
     "output_type": "stream",
     "text": [
      "<class 'int'>\n"
     ]
    }
   ],
   "source": [
    "val = int(input(\"Enter the Value : \" ))\n",
    "print(type(val))"
   ]
  }
 ],
 "metadata": {
  "kernelspec": {
   "display_name": "Python 3 (ipykernel)",
   "language": "python",
   "name": "python3"
  },
  "language_info": {
   "codemirror_mode": {
    "name": "ipython",
    "version": 3
   },
   "file_extension": ".py",
   "mimetype": "text/x-python",
   "name": "python",
   "nbconvert_exporter": "python",
   "pygments_lexer": "ipython3",
   "version": "3.12.7"
  }
 },
 "nbformat": 4,
 "nbformat_minor": 5
}
